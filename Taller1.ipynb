{
  "cells": [
    {
      "cell_type": "code",
      "execution_count": null,
      "metadata": {
        "id": "M2Eg6342fqbs"
      },
      "outputs": [],
      "source": [
        "!touch\n",
        "!pip install memory_profiler\n",
        "!pip install matplotlib\n",
        "\n",
        "!python -m memory_profiler algoritmo1.py\n",
        "!mprof run --multiprocess algoritmo1.py\n",
        "!mprof plot -s -o algoritmo1.png\n",
        "\n",
        "\n"
      ]
    },
    {
      "cell_type": "code",
      "execution_count": null,
      "metadata": {
        "id": "tkV5JO1p3N9c"
      },
      "outputs": [],
      "source": []
    },
    {
      "cell_type": "markdown",
      "metadata": {
        "id": "qnty4KDo3O2a"
      },
      "source": [
        "# Sección nueva"
      ]
    }
  ],
  "metadata": {
    "colab": {
      "provenance": []
    },
    "kernelspec": {
      "display_name": "Python 3",
      "name": "python3"
    },
    "language_info": {
      "name": "python"
    }
  },
  "nbformat": 4,
  "nbformat_minor": 0
}
